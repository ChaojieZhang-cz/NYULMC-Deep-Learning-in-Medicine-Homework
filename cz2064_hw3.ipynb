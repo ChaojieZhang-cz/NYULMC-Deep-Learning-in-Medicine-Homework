{
 "cells": [
  {
   "cell_type": "markdown",
   "metadata": {},
   "source": [
    "# Deep Learning in Medicine\n",
    "## BMSC-GA 4493, BMIN-GA 3007\n",
    "## Homework 3: RNNs\n",
    "\n",
    "Note 1: If you don't know how to run jupyter on the Prince cluster, here is another step-by-step guide here: \n",
    "<a href='https://docs.google.com/document/d/1HIdtzqJ6-RpsV0z2Gf5iXphNBTRca1kHZPlyqFxKpWs/edit?usp=sharing'> **Running Jupyter on the Cluster **</a>\n",
    "\n",
    "Note 2: If you need to write mathematical terms, you can type your answeres in a Markdown Cell via LaTex\n",
    "See: <a href=\"https://stackoverflow.com/questions/13208286/how-to-write-latex-in-ipython-notebook\">here</a> if you have issues. To see basic LaTex notation see: <a href=\"https://en.wikibooks.org/wiki/LaTeX/Mathematics\">here</a>.\n",
    "\n",
    "\n",
    "Submission instruction: Upload and Submit your final jupyter notebook file in newclasses.nyu.edu\n",
    "\n",
    "**Submission deadline: Thursday April 16th 2020 5pm.**\n",
    "\n"
   ]
  },
  {
   "cell_type": "markdown",
   "metadata": {},
   "source": [
    "# Question 1: Literature Review: DeepMod (Total points 20 + 10 bonus points)\n",
    "\n",
    "Read this paper:\n",
    "\n",
    "#### Qian Liu, Li Fang, Guoliang Yu, Depeng Wang, Chuan-Le Xiao & Kai Wang, _\"Detection of DNA base modifications by deep recurrent neural network on Oxford Nanopore sequencing data\"_ ,  Nature Communications, 2019 https://www.nature.com/articles/s41467-019-10168-2\n",
    "\n",
    "We are interested in understanding the task, the methods that is proposed in this publication, technical aspects of the implementation, and possible future work.\n",
    "\n",
    "**1.1) (5 points)** After you read the full article, go back to section **Methods**. Briefly describe the primary Deep Learning architecture used in DeepMod. Write the number of layers used, number of features input to the network?\n"
   ]
  },
  {
   "cell_type": "markdown",
   "metadata": {
    "collapsed": true
   },
   "source": [
    "The deep learing architecture used in DeepMod is bidirectional RNN with long short-term memory (LSTM) units. There are 3 hidden layers and 7 features input in the network."
   ]
  },
  {
   "cell_type": "markdown",
   "metadata": {},
   "source": [
    "**1.2) (5 points)** Describe the optional second deep neural network architecuture, including the number of layers and number of input features, number of nodes in hidden layers. "
   ]
  },
  {
   "cell_type": "markdown",
   "metadata": {
    "collapsed": true
   },
   "source": [
    "There are four layers in the second deep neural network, including an input layer, two hidden layers, and an output layer. \n",
    "\n",
    "The input of the network is a 14-value vector.\n",
    "\n",
    "The first hidden layer has 100 hidden nodes, and the second hidden layer has 20 hidden nodes. Different layers were connected by full network with dropout (dropout rate = 0.7).\n",
    "\n",
    "The output layer has sigmoid activation for outputting final methylation percentage for a CpG site."
   ]
  },
  {
   "cell_type": "markdown",
   "metadata": {},
   "source": [
    "**1.3) (5 points)** What is the loss function used to train the primary network? \n",
    "\n",
    "What are the evaluation criteria used by the authors for all the tasks? (**Hint:** Look at Performance measurements)"
   ]
  },
  {
   "cell_type": "markdown",
   "metadata": {
    "collapsed": true
   },
   "source": [
    "Loss Function: cross entropy loss\n",
    "\n",
    "Evaluation Criteria: accuracy, precision, recall, AP(weighted mean of precisions achieved at each threshold of predicted methylation percentage), and AUC(area under receiver operating characteristic curve)"
   ]
  },
  {
   "cell_type": "markdown",
   "metadata": {},
   "source": [
    "**1.4) (5 points)** Are there some data augmentation/regularization that authors have used? What are some techniques that could have been used and wasn't?"
   ]
  },
  {
   "cell_type": "markdown",
   "metadata": {
    "collapsed": true
   },
   "source": [
    "The paper applies drop out in the second deep neural network. Other techniques can be L1/L2 regularization."
   ]
  },
  {
   "cell_type": "markdown",
   "metadata": {},
   "source": [
    "**1.5) (Bonus maximum 10 points)**. What other architectures would you try? For each family of models, please do a literature search and see if a paper on that architecture for the task of DNA base modification has been used."
   ]
  },
  {
   "cell_type": "markdown",
   "metadata": {
    "collapsed": true
   },
   "source": [
    "Convolutional Neural Network, Deep Neural Network, Hidden Markov Model \n",
    "\n",
    "##### Convolutional Neural Network: \n",
    "DeepSignal: detecting DNA methylation state from Nanopore sequencing reads using deep-learning \n",
    "\n",
    "##### Perceptron Neural Network:\n",
    "Nanopore detection of bacterial DNA base modifications\n",
    "\n",
    "##### Hidden Markov Model \n",
    "Detecting DNA cytosine methylation using nanopore sequencing"
   ]
  },
  {
   "cell_type": "markdown",
   "metadata": {},
   "source": [
    "# Question 2: Literature Review: Self Attention (20 points + 10 bonus points)\n",
    "\n",
    "Read this paper: \n",
    "\n",
    "\n",
    "#### Xianlong Zeng, Yunyi Feng, Soheil Moosavinasab, Deborah Lin, Simon Lin, Chang Liu _\"Multilevel Self-Attention Model and its Use on Medical Risk Prediction\"_ https://psb.stanford.edu/psb-online/proceedings/psb20/Zeng.pdf\n",
    "\n",
    "After you read the paper, go back to Section 3.2 and 3.3. \n",
    "\n",
    "**2.1) (10 points)** Describe the architecture used in the paper to generate patient embedding. Please mention the architecture of self-attention units including any formula given in paper. Also include the input to the architecture.  \n"
   ]
  },
  {
   "cell_type": "markdown",
   "metadata": {
    "collapsed": true
   },
   "source": [
    "#### model architecture\n",
    "1. Model input: medical codes within each medical visit.\n",
    "2. Medical codes c of each visit are projected into a mdimensional continuous embedding space, and passed through the code-level self-attention encoder and aggregated into a visit embedding v.\n",
    "3. Each medical visit embedding v add its time embedding.\n",
    "4. Aggregate the visit vectors via the visit-level self-attention encoder, and formed the intermediate patient representation u.\n",
    "5. Concatenate the intermediate patient embedding u and demographic embedding, and  stacked three fully connected feedforward layers to obtain the patient embedding p.\n",
    "\n",
    "#### self-attention units：\n",
    "1. A self-attention unit contains a self-attention layer, normalization layer and a feed forward residual connected layer.\n",
    "\n",
    "2. There are two self-attention units in the model, code-level and visit-level self-attention unit.\n",
    "\n",
    "$ S_c(c_k|c_1,c_2,...,c_j) = \\sigma_v(f(c_k + \\sum\\limits_{l=1}^{|v|}\\propto_{c_k c_l} c_k)) $\n",
    "\n",
    "$\\propto_{c_k*c_1},\\propto_{c_k*c_2},...,\\propto_{c_k*c_|v|} = softmax(\\frac{Q_{c_k} K_{c_1}}{\\sqrt{m}}, \\frac{Q_{c_k} K_{v_2}}{\\sqrt{m}},...,\\frac{Q_{c_k} K_{v_{|v|}}}{\\sqrt{m}}) $\n",
    "\n",
    "$Q_{c_k} = W_q c_k$\n",
    "    \n",
    "$K_{c_k} = W_k c_k$"
   ]
  },
  {
   "cell_type": "markdown",
   "metadata": {},
   "source": [
    "**2.2) (5 points)** What are the different tasks that the architecture is used to solve? What are the Loss functions used for different tasks? What are the evaluation criteria for the different tasks?"
   ]
  },
  {
   "cell_type": "markdown",
   "metadata": {
    "collapsed": true
   },
   "source": [
    "Disease prediction (multiclass classification task) and medical cost prediction (regression task). \n",
    "\n",
    "The paper uses negative log-likelihood loss function for disease prediction and mean-squared-error for cost prediction.\n",
    "\n",
    "Evaluation metric of cost prediction: mean absolute error\n",
    "\n",
    "Evaluation metric of disease prediction: Recall@k (defined as the number of successfully recalled medical codes from the k recalled codes divided by the number of true positive diagnosis codes)"
   ]
  },
  {
   "cell_type": "markdown",
   "metadata": {},
   "source": [
    "**2.3) (5 points)** In Section 5.2 What is the best model according to the evaluation criteria? How is it different from the second best model?"
   ]
  },
  {
   "cell_type": "markdown",
   "metadata": {},
   "source": [
    "MSAM(AUX) is the best model, MSAM is the second best model.\n",
    "\n",
    "MSAM with auxiliary task implement disease prediction, it mitigated the random nature of incurring the medical cost and stabilized the prediction."
   ]
  },
  {
   "cell_type": "markdown",
   "metadata": {},
   "source": [
    "**2.4) (Bonus maximum 10 points)** What are some alternative architectures/Loss functions/Pretraining methods that you would recommend as followup work? Name 2 potential architectures, and in a few sentences explain why the proposed changes might work better.\n"
   ]
  },
  {
   "cell_type": "markdown",
   "metadata": {},
   "source": [
    "1. BERT language representation model: BERT models are state-of-the-art models for a wide range of tasks, and achieve high score on GLUE Test. BERT use a bidirectional pre-training architecture, giving better performance than standard unidirectional language model.\n",
    "2. SmoothL1Loss can be used as loss function in cost prediction. Compared with mean squared error loss, smooth L1 loss is robust to outliers."
   ]
  },
  {
   "cell_type": "markdown",
   "metadata": {},
   "source": [
    "# Question 3 - Programming: Build Classifiers on Medical Transcriptions - Recurrent Neural Networks and Self Attention(60 points + 10 bonus points)\n",
    "\n",
    "Let's build some models now. In this homework, we will focus on a dataset which has around 5000 medical transcriptions and the corresponding medical specialty. The data is available <a href=\"https://www.kaggle.com/tboyle10/medicaltranscriptions\">here</a>.\n",
    "\n",
    "Here, we will focus on predicting top few classes of medical specialty, from the transcription text. <a href=\"https://github.com/nyumc-dl/BMSC-GA-4493-Spring2020/tree/master/lab5\">Lab 5</a> will be very useful here."
   ]
  },
  {
   "cell_type": "markdown",
   "metadata": {},
   "source": [
    "**3.1) (5 points)** Read the csv using Pandas. Select the top 5 classes ('medical_specialty') from the data. Only keep the rows that belong to one of these classes in your data. Which classes are there, and how many rows do you have after this filteration?"
   ]
  },
  {
   "cell_type": "code",
   "execution_count": 1,
   "metadata": {
    "scrolled": true
   },
   "outputs": [
    {
     "data": {
      "text/plain": [
       "[' Surgery',\n",
       " ' Consult - History and Phy.',\n",
       " ' Cardiovascular / Pulmonary',\n",
       " ' Orthopedic',\n",
       " ' Radiology']"
      ]
     },
     "execution_count": 1,
     "metadata": {},
     "output_type": "execute_result"
    }
   ],
   "source": [
    "import pandas as pd\n",
    "import numpy as np\n",
    "df = pd.read_csv('mtsamples.csv',index_col=0)\n",
    "top_5_classes = df.groupby('medical_specialty').count().sort_values('sample_name',ascending=False)[:5].index.tolist()\n",
    "top_5_classes"
   ]
  },
  {
   "cell_type": "code",
   "execution_count": 2,
   "metadata": {},
   "outputs": [
    {
     "data": {
      "text/html": [
       "<div>\n",
       "<style>\n",
       "    .dataframe thead tr:only-child th {\n",
       "        text-align: right;\n",
       "    }\n",
       "\n",
       "    .dataframe thead th {\n",
       "        text-align: left;\n",
       "    }\n",
       "\n",
       "    .dataframe tbody tr th {\n",
       "        vertical-align: top;\n",
       "    }\n",
       "</style>\n",
       "<table border=\"1\" class=\"dataframe\">\n",
       "  <thead>\n",
       "    <tr style=\"text-align: right;\">\n",
       "      <th></th>\n",
       "      <th>description</th>\n",
       "      <th>medical_specialty</th>\n",
       "      <th>sample_name</th>\n",
       "      <th>transcription</th>\n",
       "      <th>keywords</th>\n",
       "      <th>label</th>\n",
       "    </tr>\n",
       "  </thead>\n",
       "  <tbody>\n",
       "    <tr>\n",
       "      <th>3</th>\n",
       "      <td>2-D M-Mode. Doppler.</td>\n",
       "      <td>Cardiovascular / Pulmonary</td>\n",
       "      <td>2-D Echocardiogram - 1</td>\n",
       "      <td>2-D M-MODE: , ,1.  Left atrial enlargement wit...</td>\n",
       "      <td>cardiovascular / pulmonary, 2-d m-mode, dopple...</td>\n",
       "      <td>2</td>\n",
       "    </tr>\n",
       "    <tr>\n",
       "      <th>4</th>\n",
       "      <td>2-D Echocardiogram</td>\n",
       "      <td>Cardiovascular / Pulmonary</td>\n",
       "      <td>2-D Echocardiogram - 2</td>\n",
       "      <td>1.  The left ventricular cavity size and wall ...</td>\n",
       "      <td>cardiovascular / pulmonary, 2-d, doppler, echo...</td>\n",
       "      <td>2</td>\n",
       "    </tr>\n",
       "    <tr>\n",
       "      <th>7</th>\n",
       "      <td>2-D Echocardiogram</td>\n",
       "      <td>Cardiovascular / Pulmonary</td>\n",
       "      <td>2-D Echocardiogram - 3</td>\n",
       "      <td>2-D ECHOCARDIOGRAM,Multiple views of the heart...</td>\n",
       "      <td>cardiovascular / pulmonary, 2-d echocardiogram...</td>\n",
       "      <td>2</td>\n",
       "    </tr>\n",
       "    <tr>\n",
       "      <th>9</th>\n",
       "      <td>Echocardiogram and Doppler</td>\n",
       "      <td>Cardiovascular / Pulmonary</td>\n",
       "      <td>2-D Echocardiogram - 4</td>\n",
       "      <td>DESCRIPTION:,1.  Normal cardiac chambers size....</td>\n",
       "      <td>cardiovascular / pulmonary, ejection fraction,...</td>\n",
       "      <td>2</td>\n",
       "    </tr>\n",
       "    <tr>\n",
       "      <th>11</th>\n",
       "      <td>Normal left ventricle, moderate biatrial enla...</td>\n",
       "      <td>Cardiovascular / Pulmonary</td>\n",
       "      <td>2-D Doppler</td>\n",
       "      <td>2-D STUDY,1. Mild aortic stenosis, widely calc...</td>\n",
       "      <td>cardiovascular / pulmonary, 2-d study, doppler...</td>\n",
       "      <td>2</td>\n",
       "    </tr>\n",
       "  </tbody>\n",
       "</table>\n",
       "</div>"
      ],
      "text/plain": [
       "                                          description  \\\n",
       "3                              2-D M-Mode. Doppler.     \n",
       "4                                  2-D Echocardiogram   \n",
       "7                                  2-D Echocardiogram   \n",
       "9                          Echocardiogram and Doppler   \n",
       "11   Normal left ventricle, moderate biatrial enla...   \n",
       "\n",
       "              medical_specialty               sample_name  \\\n",
       "3    Cardiovascular / Pulmonary   2-D Echocardiogram - 1    \n",
       "4    Cardiovascular / Pulmonary   2-D Echocardiogram - 2    \n",
       "7    Cardiovascular / Pulmonary   2-D Echocardiogram - 3    \n",
       "9    Cardiovascular / Pulmonary   2-D Echocardiogram - 4    \n",
       "11   Cardiovascular / Pulmonary              2-D Doppler    \n",
       "\n",
       "                                        transcription  \\\n",
       "3   2-D M-MODE: , ,1.  Left atrial enlargement wit...   \n",
       "4   1.  The left ventricular cavity size and wall ...   \n",
       "7   2-D ECHOCARDIOGRAM,Multiple views of the heart...   \n",
       "9   DESCRIPTION:,1.  Normal cardiac chambers size....   \n",
       "11  2-D STUDY,1. Mild aortic stenosis, widely calc...   \n",
       "\n",
       "                                             keywords  label  \n",
       "3   cardiovascular / pulmonary, 2-d m-mode, dopple...      2  \n",
       "4   cardiovascular / pulmonary, 2-d, doppler, echo...      2  \n",
       "7   cardiovascular / pulmonary, 2-d echocardiogram...      2  \n",
       "9   cardiovascular / pulmonary, ejection fraction,...      2  \n",
       "11  cardiovascular / pulmonary, 2-d study, doppler...      2  "
      ]
     },
     "execution_count": 2,
     "metadata": {},
     "output_type": "execute_result"
    }
   ],
   "source": [
    "df = df.loc[df['medical_specialty'].apply(lambda x : x in top_5_classes),:]\n",
    "df = df.loc[df['transcription'].apply(lambda x : type(x) == str),:]\n",
    "df['label'] = df['medical_specialty'].apply(lambda x : top_5_classes.index(x))\n",
    "df.head()"
   ]
  },
  {
   "cell_type": "code",
   "execution_count": 3,
   "metadata": {},
   "outputs": [
    {
     "name": "stdout",
     "output_type": "stream",
     "text": [
      "Number of rows: 2603\n"
     ]
    }
   ],
   "source": [
    "print('Number of rows:',len(df))"
   ]
  },
  {
   "cell_type": "markdown",
   "metadata": {},
   "source": [
    "**3.2) (5 points)** Now convert your data into train, test and validation set. Shuffle the rows, and split them with ratios of (train:60%, valid:20%, test:20%). Set the random seed to 2020. Please follow the steps from https://pytorch.org/docs/stable/notes/randomness.html to set all the seeds to make the results reproducible."
   ]
  },
  {
   "cell_type": "code",
   "execution_count": 4,
   "metadata": {
    "collapsed": true
   },
   "outputs": [],
   "source": [
    "from sklearn.model_selection import train_test_split\n",
    "import os\n",
    "import torch\n",
    "import random\n",
    "def seed_torch(seed=2020):\n",
    "    random.seed(seed)\n",
    "    os.environ['PYTHONHASHSEED'] = str(seed)\n",
    "    np.random.seed(seed)\n",
    "    torch.manual_seed(seed)\n",
    "    torch.cuda.manual_seed(seed)\n",
    "    torch.cuda.manual_seed_all(seed)\n",
    "seed_torch(seed=2020)"
   ]
  },
  {
   "cell_type": "code",
   "execution_count": 5,
   "metadata": {
    "collapsed": true
   },
   "outputs": [],
   "source": [
    "train_data, test_val_data = train_test_split(df, test_size=0.40, random_state=2020)\n",
    "test_data, val_data = train_test_split(test_val_data, test_size=0.50, random_state=2020)\n",
    "train_data.index = np.arange(len(train_data))\n",
    "val_data.index = np.arange(len(val_data))\n",
    "test_data.index = np.arange(len(test_data))"
   ]
  },
  {
   "cell_type": "markdown",
   "metadata": {},
   "source": [
    "**3.3) (5 points)** Create a function to create vocabulary from the training data. Only use the transcription column for this. Use the tokenization scheme of your choice and create a vocabulary."
   ]
  },
  {
   "cell_type": "code",
   "execution_count": 6,
   "metadata": {},
   "outputs": [
    {
     "name": "stderr",
     "output_type": "stream",
     "text": [
      "[nltk_data] Downloading package punkt to /home/yz6432/nltk_data...\n",
      "[nltk_data]   Package punkt is already up-to-date!\n"
     ]
    },
    {
     "name": "stdout",
     "output_type": "stream",
     "text": [
      "8714\n"
     ]
    }
   ],
   "source": [
    "from collections import Counter\n",
    "import re\n",
    "import nltk\n",
    "nltk.download('punkt')\n",
    "from nltk.tokenize import word_tokenize\n",
    "\n",
    "def build_vocab(sentences, min_count=3, max_vocab=None):\n",
    "    UNK = \"<UNK>\"\n",
    "    PAD = \"<PAD>\"\n",
    "    word_count = Counter()\n",
    "    for sentence in sentences:\n",
    "        sentence = re.sub('[\\\\(\\[#.!?,\\'\\/\\])0-9]', ' ', sentence)\n",
    "        word_count.update(word_tokenize(sentence.lower()))\n",
    "    \n",
    "    vocabulary = list([w for w in word_count if word_count[w] > min_count]) + [UNK, PAD]\n",
    "    indices = dict(zip(vocabulary, range(len(vocabulary))))\n",
    "    return vocabulary, indices\n",
    "\n",
    "vocabulary, vocab_indices = build_vocab(train_data['transcription'])\n",
    "print(len(vocabulary))"
   ]
  },
  {
   "cell_type": "markdown",
   "metadata": {},
   "source": [
    "**3.4) (10 points)** Write a dataloader and collate function so that we can begin to train our networks! You can choose to use either the complete transcription text or fix a maximum length of transcription text as input for your model."
   ]
  },
  {
   "cell_type": "code",
   "execution_count": 7,
   "metadata": {
    "collapsed": true
   },
   "outputs": [],
   "source": [
    "from torch.utils.data import DataLoader, Dataset\n",
    "\n",
    "class mtDataset(Dataset):\n",
    "    def __init__(self, vocab_index, df, label = 'label'):\n",
    "        self.vocab_index = vocab_index\n",
    "        self.df = df\n",
    "        self.label = label\n",
    "    \n",
    "    def __len__(self):\n",
    "        return len(self.df)\n",
    "    \n",
    "    def __getitem__(self, key):\n",
    "        sentence = self.df.loc[key, 'transcription']\n",
    "        sentence = re.sub('[\\\\(\\[#.!?,\\'\\/\\])0-9]', ' ', sentence)\n",
    "        token_indices = np.array([self.vocab_index[word] if word in self.vocab_index else self.vocab_index['<UNK>'] for word in word_tokenize(sentence.lower())])\n",
    "        return (torch.tensor(token_indices) , self.df.loc[key, self.label])\n",
    "\n",
    "\n",
    "def pad_collate(batch):\n",
    "    (xx, yy) = zip(*batch)\n",
    "    x_lens = [len(x) for x in xx]\n",
    "\n",
    "    xx_pad = pad_sequence(xx, batch_first=True, padding_value=len(vocabulary)-1)\n",
    "\n",
    "    return torch.as_tensor(xx_pad), torch.as_tensor(x_lens), torch.LongTensor(yy)\n",
    "    \n",
    "\n",
    "BATCH_SIZE = 2\n",
    "train_loader = DataLoader(mtDataset(vocab_indices, train_data),\n",
    "                          batch_size=BATCH_SIZE,\n",
    "                          shuffle=True,\n",
    "                          collate_fn = pad_collate)\n",
    "val_loader = DataLoader(mtDataset(vocab_indices, val_data),\n",
    "                         batch_size=BATCH_SIZE,\n",
    "                         shuffle=True,\n",
    "                         collate_fn = pad_collate)\n",
    "test_loader = DataLoader(mtDataset(vocab_indices, test_data),\n",
    "                         batch_size=BATCH_SIZE,\n",
    "                         shuffle=True,\n",
    "                         collate_fn = pad_collate)"
   ]
  },
  {
   "cell_type": "markdown",
   "metadata": {},
   "source": [
    "**3.5) (10 points)** Now you are ready to build your sequence classification model!\n",
    "\n",
    "First, Build a simple GRU model that takes as input the text indices from the vocabulary, and ends with a softmax over total number of classes. Use the embedding and hidden dimension of your choice. \n",
    "\n",
    "**Please train your model to reach at the least 55% accuracy on the test set.**\n",
    "\n",
    "At each epoch, compute and print **Average Cross Entropy loss** and **Accuracy** on both **train and validation set** \n",
    "\n",
    "Plot your validation and train loss over different epochs. \n",
    "\n",
    "Plot your validation and train accuracies over different epochs. \n",
    "\n",
    "Finally print accuracy on the test set."
   ]
  },
  {
   "cell_type": "code",
   "execution_count": 8,
   "metadata": {
    "collapsed": true
   },
   "outputs": [],
   "source": [
    "import time\n",
    "import torch.nn as nn\n",
    "import torch.nn.functional as F\n",
    "from sklearn.metrics import roc_auc_score\n",
    "from torch.nn.utils.rnn import pad_sequence\n",
    "from torch.nn.utils.rnn import pack_padded_sequence\n",
    "device = torch.device(\"cuda\")\n",
    "\n",
    "class RNN(nn.Module):\n",
    "    def __init__(self, hidden_dim=40, output_dim=5, vocab_size=len(vocabulary), embedding_dim=50, rnn='GRU'):\n",
    "        super(RNN, self).__init__()\n",
    "        \n",
    "        self.emb = nn.Embedding(vocab_size, embedding_dim, padding_idx=vocab_size-1)\n",
    "        self.hidden_dim = hidden_dim\n",
    "        self.rnn_fn = rnn\n",
    "        assert self.rnn_fn in ['LSTM','GRU']\n",
    "        self.rnn = getattr(nn, rnn)(embedding_dim, hidden_dim, batch_first=True)\n",
    "        self.fc = nn.Linear(hidden_dim, output_dim)\n",
    "        \n",
    "    def forward(self, x, x_len):\n",
    "        x = self.emb(x)\n",
    "        _, last_hidden = self.rnn(pack_padded_sequence(x, x_len, batch_first=True, enforce_sorted=False))\n",
    "        if self.rnn_fn == 'LSTM':\n",
    "            last_hidden = last_hidden[0]\n",
    "        out = self.fc(last_hidden.view(-1, self.hidden_dim))\n",
    "        return out"
   ]
  },
  {
   "cell_type": "code",
   "execution_count": 9,
   "metadata": {
    "collapsed": true
   },
   "outputs": [],
   "source": [
    "def train(model, train_loader=train_loader, val_loader=val_loader, learning_rate=1e-4, num_epoch=10):\n",
    "    start_time = time.time()\n",
    "    loss_fn = nn.CrossEntropyLoss()\n",
    "    optimizer = torch.optim.Adam(model.parameters(), lr=learning_rate, weight_decay=1e-8)\n",
    "    train_loss_return = []\n",
    "    train_acc_return = []\n",
    "    val_loss_return = []\n",
    "    val_acc_return = []\n",
    "    best_acc = 0\n",
    "    \n",
    "    for epoch in range(num_epoch):\n",
    "        # Training steps\n",
    "        correct = 0\n",
    "        total = 0\n",
    "        predictions = []\n",
    "        truths = []\n",
    "        model.train()\n",
    "        train_loss_list = []\n",
    "        for i, (data, data_len, labels) in enumerate(train_loader):\n",
    "            data, data_len, labels = data.to(device), data_len.to(device), labels.to(device)\n",
    "            outputs = model(data, data_len)\n",
    "            pred = outputs.data.max(-1)[1]\n",
    "            predictions += list(pred.cpu().numpy())\n",
    "            truths += list(labels.cpu().numpy())\n",
    "            total += labels.size(0)\n",
    "            correct += (pred == labels).sum()\n",
    "            model.zero_grad()\n",
    "            loss = loss_fn(outputs, labels)\n",
    "            train_loss_list.append(loss.item())\n",
    "            loss.backward()\n",
    "            optimizer.step()\n",
    "        # report performance\n",
    "        acc = (100 * correct / total)\n",
    "        train_acc_return.append(acc)\n",
    "        train_loss_every_epoch = np.average(train_loss_list)\n",
    "        train_loss_return.append(train_loss_every_epoch)\n",
    "        print('----------Epoch{:2d}/{:2d}----------'.format(epoch+1,num_epoch))\n",
    "        print('Train set | Loss: {:6.4f} | Accuracy: {:4.2f}% '.format(train_loss_every_epoch, acc))\n",
    "        \n",
    "        # Evaluate after every epochh\n",
    "        correct = 0\n",
    "        total = 0\n",
    "        model.eval()\n",
    "        predictions = []\n",
    "        truths = []\n",
    "        val_loss_list = []\n",
    "        with torch.no_grad():\n",
    "            for i, (data, data_len, labels) in enumerate(val_loader):\n",
    "                data, data_len, labels = data.to(device), data_len.to(device), labels.to(device)\n",
    "                outputs = model(data, data_len)\n",
    "                loss = loss_fn(outputs, labels)\n",
    "                val_loss_list.append(loss.item())\n",
    "                pred = outputs.data.max(-1)[1]\n",
    "                predictions += list(pred.cpu().numpy())\n",
    "                truths += list(labels.cpu().numpy())\n",
    "                total += labels.size(0)\n",
    "                correct += (pred == labels).sum()\n",
    "            # report performance\n",
    "            acc = (100 * correct / total)\n",
    "            val_acc_return.append(acc)\n",
    "            val_loss_every_epoch = np.average(val_loss_list)\n",
    "            val_loss_return.append(val_loss_every_epoch)\n",
    "            if acc > best_acc:\n",
    "                best_acc = acc\n",
    "                best_model_wts = model.state_dict()\n",
    "            elapse = time.strftime('%H:%M:%S', time.gmtime(int((time.time() - start_time))))\n",
    "            print('Test set | Loss: {:6.4f} | Accuracy: {:4.2f}% | time elapse: {:>9}'\\\n",
    "                  .format(val_loss_every_epoch, acc,elapse))\n",
    "    return model,train_loss_return,train_acc_return,val_loss_return,val_acc_return,best_model_wts\n"
   ]
  },
  {
   "cell_type": "code",
   "execution_count": 10,
   "metadata": {},
   "outputs": [
    {
     "name": "stdout",
     "output_type": "stream",
     "text": [
      "----------Epoch 1/10----------\n",
      "Train set | Loss: 1.5921 | Accuracy: 24.00% \n",
      "Test set | Loss: 1.4907 | Accuracy: 40.00% | time elapse:  00:00:32\n",
      "----------Epoch 2/10----------\n",
      "Train set | Loss: 1.4300 | Accuracy: 42.00% \n",
      "Test set | Loss: 1.3910 | Accuracy: 43.00% | time elapse:  00:01:04\n",
      "----------Epoch 3/10----------\n",
      "Train set | Loss: 1.3718 | Accuracy: 43.00% \n",
      "Test set | Loss: 1.3626 | Accuracy: 44.00% | time elapse:  00:01:36\n",
      "----------Epoch 4/10----------\n",
      "Train set | Loss: 1.3427 | Accuracy: 44.00% \n",
      "Test set | Loss: 1.3446 | Accuracy: 45.00% | time elapse:  00:02:09\n",
      "----------Epoch 5/10----------\n",
      "Train set | Loss: 1.3136 | Accuracy: 46.00% \n",
      "Test set | Loss: 1.3244 | Accuracy: 47.00% | time elapse:  00:02:41\n",
      "----------Epoch 6/10----------\n",
      "Train set | Loss: 1.2792 | Accuracy: 47.00% \n",
      "Test set | Loss: 1.2885 | Accuracy: 48.00% | time elapse:  00:03:13\n",
      "----------Epoch 7/10----------\n",
      "Train set | Loss: 1.2278 | Accuracy: 51.00% \n",
      "Test set | Loss: 1.2228 | Accuracy: 51.00% | time elapse:  00:03:46\n",
      "----------Epoch 8/10----------\n",
      "Train set | Loss: 1.1449 | Accuracy: 55.00% \n",
      "Test set | Loss: 1.1634 | Accuracy: 55.00% | time elapse:  00:04:18\n",
      "----------Epoch 9/10----------\n",
      "Train set | Loss: 1.1306 | Accuracy: 55.00% \n",
      "Test set | Loss: 1.1405 | Accuracy: 55.00% | time elapse:  00:04:50\n",
      "----------Epoch10/10----------\n",
      "Train set | Loss: 1.0926 | Accuracy: 58.00% \n",
      "Test set | Loss: 1.1374 | Accuracy: 57.00% | time elapse:  00:05:22\n"
     ]
    }
   ],
   "source": [
    "gru_model = RNN().to(device)\n",
    "model,train_loss,train_acc,val_loss,val_acc,best_model_wts = train(gru_model)"
   ]
  },
  {
   "cell_type": "code",
   "execution_count": 11,
   "metadata": {},
   "outputs": [
    {
     "data": {
      "image/png": "[encoded data removed]",
      "text/plain": [
       "<Figure size 432x288 with 1 Axes>"
      ]
     },
     "metadata": {},
     "output_type": "display_data"
    }
   ],
   "source": [
    "import matplotlib.pyplot as plt\n",
    "fig, ax = plt.subplots()\n",
    "line1, = ax.plot(train_loss,label='train loss')\n",
    "line2, = ax.plot(val_loss,label='validate loss')\n",
    "ax.legend()\n",
    "plt.show()"
   ]
  },
  {
   "cell_type": "code",
   "execution_count": 12,
   "metadata": {},
   "outputs": [
    {
     "data": {
      "image/png": "[encoded data removed]",
      "text/plain": [
       "<Figure size 432x288 with 1 Axes>"
      ]
     },
     "metadata": {},
     "output_type": "display_data"
    }
   ],
   "source": [
    "fig, ax = plt.subplots()\n",
    "line1, = ax.plot(train_acc,label='train accuracy')\n",
    "line2, = ax.plot(val_acc,label='validate accuracy')\n",
    "ax.legend()\n",
    "plt.show()"
   ]
  },
  {
   "cell_type": "code",
   "execution_count": 13,
   "metadata": {
    "collapsed": true
   },
   "outputs": [],
   "source": [
    "def test(model, test_loader=test_loader, best_model_wts = best_model_wts):\n",
    "    model.load_state_dict(best_model_wts)\n",
    "    loss_fn = nn.CrossEntropyLoss()\n",
    "    correct = 0\n",
    "    total = 0\n",
    "    model.eval()\n",
    "    predictions = []\n",
    "    truths = []\n",
    "    test_loss_list = []  \n",
    "    with torch.no_grad():\n",
    "        for i, (data, data_len, labels) in enumerate(val_loader):\n",
    "            data, data_len, labels = data.to(device), data_len.to(device), labels.to(device)\n",
    "            outputs = model(data, data_len)\n",
    "            loss = loss_fn(outputs, labels)\n",
    "            test_loss_list.append(loss.item())\n",
    "            pred = outputs.data.max(-1)[1]\n",
    "            predictions += list(pred.cpu().numpy())\n",
    "            truths += list(labels.cpu().numpy())\n",
    "            total += labels.size(0)\n",
    "            correct += (pred == labels).sum()\n",
    "        acc = (100 * correct / total)\n",
    "        avg_test_loss = np.average(test_loss_list)\n",
    "        print('Test set | Loss: {:6.4f} | Accuracy: {:4.2f}% '.format(avg_test_loss, acc))\n",
    "    return None"
   ]
  },
  {
   "cell_type": "code",
   "execution_count": 14,
   "metadata": {},
   "outputs": [
    {
     "name": "stdout",
     "output_type": "stream",
     "text": [
      "Test set | Loss: 1.1411 | Accuracy: 57.00% \n"
     ]
    }
   ],
   "source": [
    "test(gru_model)"
   ]
  },
  {
   "cell_type": "markdown",
   "metadata": {},
   "source": [
    "**3.6) (25 points)** Now, let's finetune a sequence classification model based on BERT. Please install the Huggingface's Transformers library for this. Use the Pretrained 'bert-base-uncased' model for this problem. Please use the BERT tokenizer from the pretrained built for 'bert-base-uncased' model . Use the AdamW optimizer from the transformers library for optimization. Remember BERT uses Attention masks for input so you need to create a separate dataloader for BERT. Please keep in mind that BERT can handle maximum of 512 tokens.\n",
    "\n",
    "**Please finetune the model so that it reaches at least 65% accuracy on the test set.**\n",
    "\n",
    "The rest of your experimental setting should be the same as 3.5:\n",
    "\n",
    "At each epoch, compute and print **Average Cross Entropy loss** and **Accuracy** on both **train and validation set** \n",
    "\n",
    "Plot your validation and train loss over different epochs. \n",
    "\n",
    "Plot your validation and train accuracies over different epochs. \n",
    "\n",
    "Finally print accuracy on the test set."
   ]
  },
  {
   "cell_type": "code",
   "execution_count": 20,
   "metadata": {
    "collapsed": true
   },
   "outputs": [],
   "source": [
    "from torch.utils.data import Dataset\n",
    "from pytorch_pretrained_bert import BertTokenizer, BertModel, BertForMaskedLM, BertForSequenceClassification\n",
    "from torch.utils.data import DataLoader\n",
    "from torch.nn.utils.rnn import pad_sequence\n",
    "import transformers\n",
    "device = torch.device(\"cuda\")\n",
    "seed_torch(seed=2020)\n",
    "\n",
    "PRETRAINED_MODEL_NAME = \"bert-base-uncased\"\n",
    "tokenizer = BertTokenizer.from_pretrained('bert-base-uncased')"
   ]
  },
  {
   "cell_type": "code",
   "execution_count": 21,
   "metadata": {
    "collapsed": true
   },
   "outputs": [],
   "source": [
    "class BERT_Dataset(Dataset):\n",
    "    def __init__(self, df, tokenizer = tokenizer, label = 'label'):\n",
    "        self.df = df\n",
    "        self.len = len(self.df)\n",
    "        self.tokenizer = tokenizer\n",
    "        self.label = label\n",
    "    \n",
    "    def __len__(self):\n",
    "        return len(self.df)\n",
    "    \n",
    "    def __getitem__(self, idx):\n",
    "        text = self.df.loc[idx, 'transcription']\n",
    "        tokens_query = self.tokenizer.tokenize(text)\n",
    "        tokens_query = tokens_query[:510]\n",
    "        word_pieces = [\"[CLS]\"] + tokens_query + [\"[SEP]\"]\n",
    "        ids = tokenizer.convert_tokens_to_ids(word_pieces)\n",
    "        tokens_tensor = torch.tensor(ids)\n",
    "        item_label = self.df.loc[idx, self.label]\n",
    "        return (tokens_tensor,item_label)\n",
    "    \n",
    "def pad_collate(batch):\n",
    "    (xx, yy) = zip(*batch)\n",
    "    x_lens = [len(x) for x in xx]\n",
    "    tokens_tensors = pad_sequence(xx, batch_first=True)\n",
    "    masks_tensors = torch.zeros(tokens_tensors.shape, dtype=torch.long)\n",
    "    masks_tensors = masks_tensors.masked_fill(tokens_tensors != 0, 1)\n",
    "    return torch.as_tensor(tokens_tensors), torch.as_tensor(x_lens), masks_tensors, torch.LongTensor(yy)"
   ]
  },
  {
   "cell_type": "code",
   "execution_count": 22,
   "metadata": {
    "collapsed": true
   },
   "outputs": [],
   "source": [
    "BATCH_SIZE = 2\n",
    "train_loader = DataLoader(BERT_Dataset(train_data),\n",
    "                          batch_size=BATCH_SIZE,\n",
    "                          shuffle=True,\n",
    "                          collate_fn = pad_collate)\n",
    "val_loader = DataLoader(BERT_Dataset(val_data),\n",
    "                         batch_size=BATCH_SIZE,\n",
    "                         shuffle=True,\n",
    "                         collate_fn = pad_collate)\n",
    "test_loader = DataLoader(BERT_Dataset(test_data),\n",
    "                         batch_size=BATCH_SIZE,\n",
    "                         shuffle=True,\n",
    "                         collate_fn = pad_collate)"
   ]
  },
  {
   "cell_type": "code",
   "execution_count": 23,
   "metadata": {
    "collapsed": true
   },
   "outputs": [],
   "source": [
    "seed_torch(seed=2020)\n",
    "def train(model, train_loader=train_loader, val_loader=val_loader, learning_rate=2e-5, num_epoch=10):\n",
    "    start_time = time.time()\n",
    "    loss_fn = nn.CrossEntropyLoss()\n",
    "    #optimizer = torch.optim.Adam(model.parameters(), lr=learning_rate, weight_decay=1e-8)\n",
    "    optimizer = transformers.AdamW(model.parameters(), lr=learning_rate, betas=(0.9, 0.999), eps=1e-06, weight_decay=0.0, correct_bias=True)\n",
    "    train_loss_return = []\n",
    "    train_acc_return = []\n",
    "    val_loss_return = []\n",
    "    val_acc_return = []\n",
    "    best_acc = 0\n",
    "    \n",
    "    for epoch in range(num_epoch):\n",
    "        # Training steps\n",
    "        correct = 0\n",
    "        total = 0\n",
    "        predictions = []\n",
    "        truths = []\n",
    "        model.train()\n",
    "        train_loss_list = []\n",
    "        for i, (data, data_len, masks, labels) in enumerate(train_loader):\n",
    "            data,data_len,masks,labels=data.to(device),data_len.to(device),masks.to(device),labels.to(device)\n",
    "            outputs = model(data, attention_mask = masks)[0]\n",
    "            pred = outputs.data.max(-1)[1]\n",
    "            predictions += list(pred.cpu().numpy())\n",
    "            truths += list(labels.cpu().numpy())\n",
    "            total += labels.size(0)\n",
    "            correct += (pred == labels).sum()\n",
    "            model.zero_grad()\n",
    "            #loss = loss_fn(outputs.squeeze(), labels)\n",
    "            loss = model(data, attention_mask = masks, labels=labels)[0]\n",
    "            train_loss_list.append(loss.item())\n",
    "            loss.backward()\n",
    "            optimizer.step()\n",
    "        # report performance\n",
    "        acc = (100 * correct / total)\n",
    "        train_acc_return.append(acc)\n",
    "        train_loss_every_epoch = np.average(train_loss_list)\n",
    "        train_loss_return.append(train_loss_every_epoch)\n",
    "        print('----------Epoch{:2d}/{:2d}----------'.format(epoch+1,num_epoch))\n",
    "        print('Train set | Loss: {:6.4f} | Accuracy: {:4.2f}% '.format(train_loss_every_epoch, acc))\n",
    "        \n",
    "        # Evaluate after every epochh\n",
    "        correct = 0\n",
    "        total = 0\n",
    "        model.eval()\n",
    "        predictions = []\n",
    "        truths = []\n",
    "        val_loss_list = []\n",
    "        with torch.no_grad():\n",
    "            for i, (data, data_len, masks, labels) in enumerate(val_loader):\n",
    "                data,data_len,masks,labels=data.to(device),data_len.to(device),masks.to(device),labels.to(device)\n",
    "                outputs = model(data)[0]\n",
    "                #loss = loss_fn(outputs.squeeze(), labels)\n",
    "                loss = model(data, attention_mask = masks, labels=labels)[0]\n",
    "                val_loss_list.append(loss.item())\n",
    "                pred = outputs.data.max(-1)[1]\n",
    "                predictions += list(pred.cpu().numpy())\n",
    "                truths += list(labels.cpu().numpy())\n",
    "                total += labels.size(0)\n",
    "                correct += (pred == labels).sum()\n",
    "            # report performance\n",
    "            acc = (100 * correct / total)\n",
    "            val_acc_return.append(acc)\n",
    "            val_loss_every_epoch = np.average(val_loss_list)\n",
    "            val_loss_return.append(val_loss_every_epoch)\n",
    "            if acc > best_acc:\n",
    "                best_acc = acc\n",
    "                best_model_wts = model.state_dict()\n",
    "            elapse = time.strftime('%H:%M:%S', time.gmtime(int((time.time() - start_time))))\n",
    "            print('Test set | Loss: {:6.4f} | Accuracy: {:4.2f}% | time elapse: {:>9}'.format(val_loss_every_epoch, acc,elapse))\n",
    "    return model,train_loss_return,train_acc_return,val_loss_return,val_acc_return,best_model_wts"
   ]
  },
  {
   "cell_type": "code",
   "execution_count": 24,
   "metadata": {
    "collapsed": true
   },
   "outputs": [],
   "source": [
    "model_BERT = transformers.modeling_bert.BertForSequenceClassification.\\\n",
    "from_pretrained(\"bert-base-uncased\",num_labels=5).to(device)"
   ]
  },
  {
   "cell_type": "code",
   "execution_count": 25,
   "metadata": {},
   "outputs": [
    {
     "name": "stdout",
     "output_type": "stream",
     "text": [
      "----------Epoch 1/ 5----------\n",
      "Train set | Loss: 1.0043 | Accuracy: 60.00% \n",
      "Test set | Loss: 0.7283 | Accuracy: 67.00% | time elapse:  00:03:01\n",
      "----------Epoch 2/ 5----------\n",
      "Train set | Loss: 0.6597 | Accuracy: 70.00% \n",
      "Test set | Loss: 0.5987 | Accuracy: 67.00% | time elapse:  00:05:58\n",
      "----------Epoch 3/ 5----------\n",
      "Train set | Loss: 0.5641 | Accuracy: 70.00% \n",
      "Test set | Loss: 0.6279 | Accuracy: 67.00% | time elapse:  00:08:54\n",
      "----------Epoch 4/ 5----------\n",
      "Train set | Loss: 0.5028 | Accuracy: 74.00% \n",
      "Test set | Loss: 0.6844 | Accuracy: 63.00% | time elapse:  00:11:51\n",
      "----------Epoch 5/ 5----------\n",
      "Train set | Loss: 0.4668 | Accuracy: 75.00% \n",
      "Test set | Loss: 0.6984 | Accuracy: 68.00% | time elapse:  00:14:48\n"
     ]
    }
   ],
   "source": [
    "model,train_loss,train_acc,val_loss,val_acc,best_model_wts = train(model_BERT,num_epoch=5)"
   ]
  },
  {
   "cell_type": "code",
   "execution_count": 26,
   "metadata": {},
   "outputs": [
    {
     "data": {
      "image/png": "[encoded data removed]",
      "text/plain": [
       "<Figure size 432x288 with 1 Axes>"
      ]
     },
     "metadata": {},
     "output_type": "display_data"
    }
   ],
   "source": [
    "import matplotlib.pyplot as plt\n",
    "fig, ax = plt.subplots()\n",
    "line1, = ax.plot(train_loss,label='train loss')\n",
    "line2, = ax.plot(val_loss,label='validate loss')\n",
    "ax.legend()\n",
    "plt.show()"
   ]
  },
  {
   "cell_type": "code",
   "execution_count": 27,
   "metadata": {},
   "outputs": [
    {
     "data": {
      "image/png": "[encoded data removed]",
      "text/plain": [
       "<Figure size 432x288 with 1 Axes>"
      ]
     },
     "metadata": {},
     "output_type": "display_data"
    }
   ],
   "source": [
    "fig, ax = plt.subplots()\n",
    "line1, = ax.plot(train_acc,label='train accuracy')\n",
    "line2, = ax.plot(val_acc,label='validate accuracy')\n",
    "ax.legend()\n",
    "plt.show()"
   ]
  },
  {
   "cell_type": "code",
   "execution_count": 28,
   "metadata": {
    "collapsed": true
   },
   "outputs": [],
   "source": [
    "def test(model, test_loader=test_loader, best_model_wts = best_model_wts):\n",
    "    model.load_state_dict(best_model_wts)\n",
    "    correct = 0\n",
    "    total = 0\n",
    "    model.eval()\n",
    "    predictions = []\n",
    "    truths = []\n",
    "    test_loss_list = []  \n",
    "    with torch.no_grad():\n",
    "        for i, (data, data_len, masks, labels) in enumerate(test_loader):\n",
    "            data,data_len,masks,labels=data.to(device),data_len.to(device),masks.to(device),labels.to(device)\n",
    "            outputs = model(data)[0]\n",
    "            loss = model(data, attention_mask = masks, labels=labels)[0]\n",
    "            test_loss_list.append(loss.item())\n",
    "            pred = outputs.data.max(-1)[1]\n",
    "            predictions += list(pred.cpu().numpy())\n",
    "            truths += list(labels.cpu().numpy())\n",
    "            total += labels.size(0)\n",
    "            correct += (pred == labels).sum()\n",
    "        acc = (100 * correct / total)\n",
    "        avg_test_loss = np.average(test_loss_list)\n",
    "        print('Test set | Loss: {:6.4f} | Accuracy: {:4.2f}% '.format(avg_test_loss, acc))\n",
    "    return None"
   ]
  },
  {
   "cell_type": "code",
   "execution_count": 29,
   "metadata": {},
   "outputs": [
    {
     "name": "stdout",
     "output_type": "stream",
     "text": [
      "Test set | Loss: 0.7234 | Accuracy: 65.00% \n"
     ]
    }
   ],
   "source": [
    "test(model_BERT)"
   ]
  },
  {
   "cell_type": "markdown",
   "metadata": {
    "scrolled": true
   },
   "source": [
    "**3.7) (Bonus maximum 10 points)** List 5 examples on the test set that BERT misclassified. Describe reasons identified for misclassification."
   ]
  },
  {
   "cell_type": "markdown",
   "metadata": {},
   "source": [
    "1. Some misclassificated transcription exceed 512 words, only part of informations are taken from BERT model. \n",
    "\n",
    "2. Some misclassificated transcription correspond to multiple medical specialty. Sample 317 can be assigned as 'Consult - History and Phy.' or 'Orthopedic', while ture label is 'Consult - History and Phy.' and prediction is 'Orthopedic'. \n",
    "\n",
    "3. Some misclassificated transcription contains key words from other medical specialty, it may lead to misclassification.\n",
    "\n",
    "Examples are list below."
   ]
  },
  {
   "cell_type": "code",
   "execution_count": 33,
   "metadata": {
    "collapsed": true
   },
   "outputs": [],
   "source": [
    "class BERT_test_Dataset(Dataset):\n",
    "    def __init__(self, df, tokenizer = tokenizer, label = 'label'):\n",
    "        self.df = df\n",
    "        self.len = len(self.df)\n",
    "        self.tokenizer = tokenizer\n",
    "        self.label = label\n",
    "    \n",
    "    def __len__(self):\n",
    "        return len(self.df)\n",
    "    \n",
    "    def __getitem__(self, idx):\n",
    "        text = self.df.loc[idx, 'transcription']\n",
    "        tokens_query = self.tokenizer.tokenize(text)\n",
    "        tokens_query = tokens_query[:510]\n",
    "        word_pieces = [\"[CLS]\"] + tokens_query + [\"[SEP]\"]\n",
    "        ids = tokenizer.convert_tokens_to_ids(word_pieces)\n",
    "        tokens_tensor = torch.tensor(ids)\n",
    "        item_label = self.df.loc[idx, self.label]\n",
    "        id_ = idx\n",
    "        return (tokens_tensor,item_label,id_)\n",
    "    \n",
    "def pad_collate(batch):\n",
    "    (xx, yy, zz) = zip(*batch)\n",
    "    x_lens = [len(x) for x in xx]\n",
    "    tokens_tensors = pad_sequence(xx, batch_first=True)\n",
    "    masks_tensors = torch.zeros(tokens_tensors.shape, dtype=torch.long)\n",
    "    masks_tensors = masks_tensors.masked_fill(tokens_tensors != 0, 1)\n",
    "    return torch.as_tensor(tokens_tensors), torch.as_tensor(x_lens), masks_tensors, torch.LongTensor(yy), zz\n",
    "\n",
    "BATCH_SIZE = 1\n",
    "test_loader = DataLoader(BERT_test_Dataset(test_data),\n",
    "                         batch_size=BATCH_SIZE,\n",
    "                         shuffle=True,\n",
    "                         collate_fn = pad_collate)"
   ]
  },
  {
   "cell_type": "code",
   "execution_count": 34,
   "metadata": {
    "collapsed": true
   },
   "outputs": [],
   "source": [
    "def misclassification(model, test_loader=test_loader, best_model_wts = best_model_wts):\n",
    "    misclassification_idx = {}\n",
    "    model.load_state_dict(best_model_wts)\n",
    "    model.eval() \n",
    "    with torch.no_grad():\n",
    "        for i, (data, data_len, masks, labels, idx) in enumerate(test_loader):\n",
    "            data,data_len,masks,labels=data.to(device),data_len.to(device),masks.to(device),labels.to(device)\n",
    "            outputs = model(data)[0]\n",
    "            pred = outputs.data.max(-1)[1]\n",
    "            if pred!=labels:\n",
    "                misclassification_idx[idx[0]]=(labels.cpu().numpy()[0],pred.cpu().numpy()[0])\n",
    "    return misclassification_idx"
   ]
  },
  {
   "cell_type": "code",
   "execution_count": 35,
   "metadata": {
    "collapsed": true
   },
   "outputs": [],
   "source": [
    "misclassification_idx = misclassification(model_BERT)"
   ]
  },
  {
   "cell_type": "code",
   "execution_count": 36,
   "metadata": {},
   "outputs": [
    {
     "name": "stdout",
     "output_type": "stream",
     "text": [
      "Length of transcription in ten random misclassification samples: 627, 489, 276, 543, 593, 146, 885, 670, 718, 234, "
     ]
    }
   ],
   "source": [
    "print('Length of transcription in ten random misclassification samples:',end=' ')\n",
    "for i in list(misclassification_idx.keys())[:10]:\n",
    "    print(len(df.iloc[i]['transcription'].split()),end=', ')"
   ]
  },
  {
   "cell_type": "code",
   "execution_count": 37,
   "metadata": {},
   "outputs": [
    {
     "name": "stdout",
     "output_type": "stream",
     "text": [
      "-------------------------------------------------------------\n",
      "Sample index: 317\n",
      "Label:  Consult - History and Phy.\n",
      "Prediction:  Orthopedic\n",
      "PREOPERATIVE DIAGNOSIS: , Left tibial tubercle avulsion fracture.,POSTOPERATIVE DIAGNOSIS:,  Comminuted left tibial tubercle avulsion fracture with intraarticular extension.,PROCEDURE:,  Open reduction and internal fixation of left tibia.,ANESTHESIA: , General.  The patient received 10 ml of 0.5% Marcaine local anesthetic.,TOURNIQUET TIME: , 80 minutes.,ESTIMATED BLOOD LOSS:,  Minimal.,DRAINS: , One JP drain was placed.,COMPLICATIONS: , No intraoperative complications or specimens.  Hardware consisted of two 4-5 K-wires, One 6.5, 60 mm partially threaded cancellous screw and one 45, 60 mm partially threaded cortical screw and 2 washers.,HISTORY AND PHYSICAL:,  The patient is a 14-year-old male who reported having knee pain for 1 month.  Apparently while he was playing basketball on 12/22/2007 when he had gone up for a jump, he felt a pop in his knee.  The patient was seen at an outside facility where he was splinted and subsequently referred to Children's for definitive care.  Radiographs confirmed comminuted tibial tubercle avulsion fracture with patella alta.  Surgery is recommended to the grandmother and subsequently to the father by phone.  Surgery would consist of open reduction and internal fixation with subsequent need for later hardware removal.  Risks of surgery include the risks of  anesthesia, infection, bleeding, changes on sensation in most of the extremity, hardware failure, need for later hardware removal, failure to restore extensor mechanism tension, and need for postoperative rehab.  All questions were answered, and father and grandmother agreed to the above plan.,PROCEDURE: , The patient was taken to the operating and placed supine on the operating table.  General anesthesia was then administered.  The patient was given Ancef preoperatively.  A nonsterile tourniquet was placed on the upper aspect of the patient's left thigh.  The patient's extremity was then prepped and draped in the standard surgical fashion.  Midline incision was marked on the skin extending from the tibial tubercle proximally and extremities wrapped in Esmarch.  Finally, the patient had tourniquet that turned in 75 mmHg.  Esmarch was then removed.  The incision was then made.  The patient had significant  tearing of the posterior retinaculum medially with proximal migration of the tibial tubercle which was located in the joint there was a significant comminution and intraarticular involvement.  We were able to see the underside of the anterior horn of both medial and lateral meniscus.  The intraarticular cartilage was restored using two 45 K-wires.  Final position was checked via fluoroscopy and the corners were buried in the cartilage.  There was a large free floating metaphyseal piece that included parts of proximal tibial physis.  This was placed back in an anatomic location and fixed using a 45 cortical screw with a washer.  The avulsed fragment with the patellar tendon was then fixed distally to this area using a 6.5, 60 mm cancellous screw with a washer.  The cortical screw did not provide good compression and fixation at this distal fragment.  Retinaculum was repaired using 0 Vicryl suture as best as possible.  The hematoma was evacuated at the beginning of the case as well as the end.  The knee was copiously irrigated with normal saline.  The subcutaneous tissue was re-approximated using 2-0 Vicryl and the skin with 4-0 Monocryl.  The wound was cleaned, dried, and dressed with Steri-Strips, Xeroform, and 4 x4s.  Tourniquet was released at 80 minutes.  JP drain was placed on the medium gutter.  The extremity was then wrapped in Ace wrap from the proximal thigh down to the toes.  The patient was then placed in a knee mobilizer.  The patient tolerated the procedure well.  Subsequently extubated and taken to the recovery in stable condition.,POSTOP PLAN:  ,The patient hospitalized overnight to decrease swelling and as well as manage his pain.  He may weightbear as tolerated using knee mobilizer.  Postoperative findings relayed to the grandmother.  The patient will need subsequent hardware removal.  The patient also was given local anesthetic at the end of the case.\n",
      "-------------------------------------------------------------\n",
      "Sample index: 248\n",
      "Label:  Surgery\n",
      "Prediction:  Cardiovascular / Pulmonary\n",
      "PREOPERATIVE DIAGNOSIS:,  Plantar fascitis, left foot.,POSTOPERATIVE DIAGNOSIS: , Plantar fascitis, left foot.,PROCEDURE PERFORMED: , Partial plantar fasciotomy, left foot.,ANESTHESIA:,  10 cc of 0.5% Marcaine plain with TIVA.,HISTORY:  ,This 35-year-old Caucasian female presents to ABCD General Hospital with above chief complaint.  The patient states she has extreme pain with plantar fascitis in her left foot and has attempted conservative treatment including orthotics without long-term relief of symptoms and desires surgical treatment.  The patient has been NPO since mid night.  Consent is signed and in the chart.  No known drug allergies.,Details Of Procedure:  An IV was instituted by the Department of Anesthesia in the preoperative holding area.  The patient was transported to the operating room and placed on the operating table in supine position with a safety belt across the stomach.  Copious amounts of Webril were placed on the left ankle followed by blood pressure cuff.  After adequate sedation by the Department of Anesthesia, a total of 10 cc of 0.5% Marcaine plain was injected into the surgical site both medially and laterally across the plantar fascia.  The foot was then prepped and draped in the usual sterile orthopedic fashion.  An Esmarch bandage was applied for exsanguination and the pneumatic ankle tourniquet was inflated to 250 mmHg.  The foot was then reflected on the operating, stockinet reflected, and the foot cleansed with a wet and dry sponge.  Attention was then directed to the plantar medial aspect of the left heel.  An approximately 0.75 cm incision was then created in the plantar fat pad over the area of maximal tenderness.,The incision was then deepened with a combination of sharp and blunt dissection until the plantar fascia was palpated.  A #15 blade was then used to transect the medial and central bands of the plantar fascia.  Care was taken to preserve the lateral fibroids.  The foot was dorsiflexed against resistance as the fibers were released and there was noted to be increased laxity after release of the fibers on the plantar aspect of the foot indicating that plantar fascia has in fact been transacted.  The air was then flushed with copious amounts of sterile saline.  The skin incision was then closed with #3-0 nylon in simple interrupted fashion.  Dressings consisted of #0-1 silk, 4 x 4s, Kling, Kerlix, and Coban.  The pneumatic ankle tourniquet was released and immediate hyperemic flush was noted throughout all digits of the left foot.  The patient tolerated the above procedure and anesthesia well without complications.  The patient was transported to the PACU with vital signs stable and vascular status intact to the left foot.  Intraoperatively, an additional 80 cc of 1% lidocaine was injected for additional anesthesia in the case.  The patient is to be nonweightbearing on the left lower extremity with crutches.  The patient is given postoperative pain prescriptions for Vicodin ES, one q3-4h. p.o. p.r.n. for pain as well as Celebrex 200 mg one p.o. b.i.d.  The patient is to follow-up with Dr. X as directed.\n",
      "-------------------------------------------------------------\n",
      "Sample index: 467\n",
      "Label:  Orthopedic\n",
      "Prediction:  Surgery\n",
      "PREOPERATIVE DIAGNOSIS: , Acute cholecystitis.,POSTOPERATIVE DIAGNOSIS:,  Acute cholecystitis.,PROCEDURE PERFORMED:,  Laparoscopic cholecystectomy.,ANESTHESIA: , General.,ESTIMATED BLOOD LOSS:,  Zero.,COMPLICATIONS: , None.,PROCEDURE:  ,The patient was taken to the operating room, and after obtaining adequate general anesthesia, the patient was placed in the supine position.  The abdominal area was prepped and draped in the usual sterile fashion.  A small skin incision was made below the umbilicus.  It was carried down in the transverse direction on the side of her old incision.  It was carried down to the fascia.  An open pneumoperitoneum was created with Hasson technique.  Three additional ports were placed in the usual fashion.  The gallbladder was found to be acutely inflamed, distended, and with some necrotic areas.  It was carefully retracted from the isthmus, and the cystic structure was then carefully identified, dissected, and divided between double clips.  The gallbladder was then taken down from the gallbladder fossa with electrocautery.  There was some bleeding from the gallbladder fossa that was meticulously controlled with a Bovie.  The gallbladder was then finally removed via the umbilical port with some difficulty because of the size of the gallbladder and size of the stones.  The fascia had to be opened.  The gallbladder had to be opened, and the stones had to be extracted carefully.  When it was completed, I went back to the abdomen and achieved complete hemostasis.  The ports were then removed under direct vision with the scope.  The fascia of the umbilical wound was closed with a figure-of-eight 0 Vicryl.  All the incisions were injected with 0.25% Marcaine, closed with 4-0 Monocryl, Steri-Strips, and sterile dressing.,The patient tolerated the procedure satisfactorily and was transferred to the recovery room in stable condition.\n",
      "-------------------------------------------------------------\n",
      "Sample index: 91\n",
      "Label:  Radiology\n",
      "Prediction:  Orthopedic\n",
      "POSTOPERATIVE DIAGNOSIS:,  Chronic adenotonsillitis.,PROCEDURE PERFORMED: , Tonsillectomy and adenoidectomy.,ANESTHESIA:  ,General endotracheal tube.,ESTIMATED BLOOD LOSS:,  Minimum, less than 5 cc.,SPECIMENS:,  Right and left tonsils 2+, adenoid pad 1+.  There was no adenoid specimen.,COMPLICATIONS: , None.,HISTORY: , The patient is a 9-year-old Caucasian male with history of recurrent episodes of adenotonsillitis that has been refractory to outpatient antibiotic therapy.  The patient has had approximately four to five episodes of adenotonsillitis per year for the last three to four years.,PROCEDURE: , Informed consent was properly obtained from the patient's parents and the patient was taken to the operating room #3 and was placed in a supine position.  He was placed under general endotracheal tube anesthesia by the Department of Anesthesia.  The bed was then rolled away from Department of Anesthesia.  A shoulder roll was then placed beneath the shoulder blades and a blue towel was then fashioned as a turban wrap.  The McIvor mouth gag was carefully positioned into the patient's mouth with attention to avoid the teeth.,The retractor was then opened and the oropharynx was visualized.  The adenoid pad was then visualized with a laryngeal mirror.  The adenoids appeared to be 1+ and non-obstructing.  There was no evidence of submucosal cleft palate palpable.  There was no evidence of bifid uvula.  A curved Allis clamp was then used to grasp the superior pole of the right tonsil.  The tonsil was then retracted inferiorly and medially.  Bovie cautery was used to make an incision on the mucosa of the right anterior tonsillar pillar to find the appropriate plane of dissection.  The tonsil was then dissected out within this plane using a Bovie.  Tonsillar sponge was re-applied to the tonsillar fossa.  Suction cautery was then used to adequately obtain hemostasis with the tonsillar fossa.  Attention was then directed to the left tonsil.  The curved Allis was used to grasp the superior pole of the left tonsil and it was retracted inferiorly and medially.  Bovie cautery was used to make an incision in the mucosa of the left anterior tonsillar pillar and define the appropriate plane of dissection.  The tonsil was then dissected out within this plane using the Bovie.  Next, complete hemostasis was achieved within the tonsillar fossae using suction cautery.  After adequate hemostasis was obtained, attention was directed towards the adenoid pad.  The adenoid pad was again visualized and appeared 1+ and was non-obstructing.  Decision was made to use suction cautery to cauterize the adenoids.  Using a laryngeal mirror under direct visualization, the adenoid pad was then cauterized with care to avoid the eustachian tube orifices as well as the soft palate and inferior turbinates.  After cauterization was complete, the nasopharynx was again visualized and tonsillar sponge was applied.  Adequate hemostasis was achieved.  The tonsillar fossae were again visualized and no evidence of bleeding was evident.  The throat pack was removed from the oropharynx and the oropharynx was suctioned.  There was no evidence of any further bleeding.  A flexible suction catheter was then used to suction out the nasopharynx to the oropharynx.  The suction catheter was also used to suction up the stomach.  Final look revealed no evidence of further bleeding and 10 mg of Decadron was given intraoperatively.,DISPOSITION:  ,The patient tolerated the procedure well and the patient was transported to the recovery room in stable condition.\n",
      "-------------------------------------------------------------\n",
      "Sample index: 208\n",
      "Label:  Radiology\n",
      "Prediction:  Orthopedic\n",
      "PREOPERATIVE DIAGNOSIS: , Squamous cell carcinoma of the scalp.,POSTOPERATIVE DIAGNOSIS:,  Same.,OPERATION PERFORMED: , Radical resection of tumor of the scalp (CPT 11643).  Excision of tumor from the skull with debridement of the superficial cortex with diamond bur.  Advancement flap closure, with total undermined area 18 centimeters by 16 centimeters (CPT 14300).,ANESTHESIA:,  General endotracheal anesthesia.,INDICATIONS:  ,This is an 81-year-old male who has a large exophytic 7cm lesion of the anterior midline scalp which is biopsy-positive for skin malignancy, specifically, squamous call carcinoma.  This appears to be affixed to the underlying scalp.,PLAN: , Radical resection with frozen sections to clear margins thereafter, with planned reconstruction.,CONSENT:,  I have discussed with the patient the possible risks of bleeding, infection, renal problems, scar formation, injury to muscle, nerves, and possible need for additional surgery with possible recurrence of the patient's carcinoma, with review of detailed informed consent with the patient, who understood, and wished to proceed.,FINDINGS: , The patient had a 7cm large exophytic lesion which appeared to be invasive into the superficial table of the skull.  The final periosteal margin which centrally appeared was positive for carcinoma.  The final margins peripherally were all negative.,DESCRIPTION OF PROCEDURE IN DETAIL: , The patient was taken to the operating room and there was placed supine on the operating room table.,General endotracheal anesthesia was administered after endotracheal tube intubation was performed by the Anesthesia Service personnel.  The patient was thereafter prepped and draped in the usual sterile manner using Betadine Scrub and Betadine paint.  Thereafter, the local anesthesia was injected into the area around the tumor.  A **** type excision was planned down to the periosteum.  A supraperiosteal radical resection was performed.,It was obvious that there was tumor at the deep margin, involving the periosteum.  The edges were marked along the four quadrants, at the 12 o'clock, 3 o'clock, 6 o'clock, and the 9 o'clock positions, and these were sent for frozen section evaluation.  Frozen section revealed positive margins at one end of the resection.  Therefore, an additional circumferential resection was performed and the final margins were all negative.,Following completion, the deep periosteal margin was resected.  The circumferential periosteal margins were noted to be negative; however, centrally, there was a small area which showed tumor eroding into the superficial cortex of the skull.  Therefore, the Midas Rex drill was utilized to resect approximately 1-2 mm of the superficial cortex of the bone at the area where the positive margin was located.  Healthy bone was obtained; however, it did not enter the diploic or marrow-containing bone in the area.  Therefore, no bong margin was taken.  However, at the end of the procedure, it did not appear that the residual bone had any residual changes consistent with carcinoma.,Following completion of the bony resection, the area was irrigated with copious amounts of saline.  Thereafter, advancement flaps were created, both on the left and the right side of the scalp, with the total undermined area being approximately 18cm by 16cm.  The galea was incised in multiple areas, to provide for additional mobilization of the tissue.  The tissue was closed under tension with 3-0 Vicryl suture deep in the galea and surgical staples superficially.,The patient was awakened from anesthetic, was extubated and was taken to the recovery room in stable condition.,DISPOSITION:,  The patient was discharged to home with antibiotics and analgesics, to follow-up in approximately one week.,NOTE: , The final margins of both periosteal, as well as skin were negative circumferentially, around the tumor.  The only positive margin was deep, which was a periosteal margin and bone underlying it was partially resected, as was indicated above.\n"
     ]
    }
   ],
   "source": [
    "for i in list(misclassification_idx.keys())[:5]:\n",
    "    print('-------------------------------------------------------------')\n",
    "    print('Sample index:',i)\n",
    "    print('Label:',top_5_classes[misclassification_idx[i][0]])\n",
    "    print('Prediction:',top_5_classes[misclassification_idx[i][1]])\n",
    "    print(df.iloc[i]['transcription'])"
   ]
  }
 ],
 "metadata": {
  "anaconda-cloud": {},
  "kernelspec": {
   "display_name": "Python 3",
   "language": "python",
   "name": "python3"
  },
  "language_info": {
   "codemirror_mode": {
    "name": "ipython",
    "version": 3
   },
   "file_extension": ".py",
   "mimetype": "text/x-python",
   "name": "python",
   "nbconvert_exporter": "python",
   "pygments_lexer": "ipython3",
   "version": "3.6.10"
  }
 },
 "nbformat": 4,
 "nbformat_minor": 2
}
